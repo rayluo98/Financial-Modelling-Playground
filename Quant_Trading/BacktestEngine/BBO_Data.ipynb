{
 "cells": [
  {
   "cell_type": "code",
   "execution_count": 2,
   "id": "35512760-aacd-41c1-adfa-8dbd16bba882",
   "metadata": {},
   "outputs": [],
   "source": [
    "import databento"
   ]
  },
  {
   "cell_type": "code",
   "execution_count": null,
   "id": "81aecf74-8a48-4c60-9504-f77541488b23",
   "metadata": {},
   "outputs": [],
   "source": []
  }
 ],
 "metadata": {
  "kernelspec": {
   "display_name": "Python 3 (ipykernel)",
   "language": "python",
   "name": "python3"
  },
  "language_info": {
   "codemirror_mode": {
    "name": "ipython",
    "version": 3
   },
   "file_extension": ".py",
   "mimetype": "text/x-python",
   "name": "python",
   "nbconvert_exporter": "python",
   "pygments_lexer": "ipython3",
   "version": "3.10.11"
  }
 },
 "nbformat": 4,
 "nbformat_minor": 5
}
