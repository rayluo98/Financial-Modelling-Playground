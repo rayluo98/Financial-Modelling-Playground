{
 "cells": [
  {
   "cell_type": "code",
   "execution_count": 4,
   "id": "dde6023d-1da3-4cde-9be9-6d4c379291b3",
   "metadata": {},
   "outputs": [],
   "source": [
    "#Import libraries\n",
    "import math\n",
    "import numpy as np\n",
    "from scipy.stats import norm\n",
    "\n",
    "def newton_step(f, x0):\n",
    "    def df(x):\n",
    "        dx = 0.00001\n",
    "        return (f(x + dx) - f(x)) / dx\n",
    "    return x0 - f(x0)/df(x0)\n",
    "\n",
    "def newton(f,x0,tol):\n",
    "    while (abs(newton_step(f, x0) - x0) > tol):\n",
    "        x0 = newton_step(f, x0)\n",
    "    return x0"
   ]
  },
  {
   "cell_type": "code",
   "execution_count": 8,
   "id": "df4e8146-ff8c-4ac4-996e-ad3b3f7731e6",
   "metadata": {},
   "outputs": [],
   "source": [
    "def CallPrice(S, sigma, K, T, r):\n",
    "    d1 = (math.log(S / K) + (r + .5 * sigma**2) * T) / (sigma * T**.5)\n",
    "    d2 = d1 - sigma * T**0.5\n",
    "    n1 = norm.cdf(d1)\n",
    "    n2 = norm.cdf(d2)\n",
    "    DF = math.exp(-r * T)\n",
    "    price=S * n1 - K * DF * n2\n",
    "    return price"
   ]
  },
  {
   "cell_type": "code",
   "execution_count": 19,
   "id": "e4e3a375-7519-46de-bde3-7e32fb528588",
   "metadata": {},
   "outputs": [],
   "source": [
    "CallPriceVol = lambda vol: CallPrice(S, vol, K, T, r) - C\n",
    "#parameters\n",
    "S = 226.5 #asset price\n",
    "K = 225 #strike price\n",
    "T = 30/360 #time to maturity\n",
    "r = .0533 #risk-free interest rate\n",
    "vol = .2 #implied volatility\n",
    "C = 8.65 #CallPrice(S, vol, K, T, r) #target priceb"
   ]
  },
  {
   "cell_type": "code",
   "execution_count": 20,
   "id": "e09d7a76-8275-4738-9961-9ca013021d99",
   "metadata": {},
   "outputs": [
    {
     "name": "stdout",
     "output_type": "stream",
     "text": [
      "0.28279437261852686\n"
     ]
    }
   ],
   "source": [
    "init = .1\n",
    "tol = 10**-8\n",
    "print(newton(CallPriceVol, init, tol))"
   ]
  },
  {
   "cell_type": "code",
   "execution_count": 21,
   "id": "3b9b8b9a-13ba-44de-89a2-908cd5626cd8",
   "metadata": {},
   "outputs": [
    {
     "name": "stdout",
     "output_type": "stream",
     "text": [
      "0.1\n",
      "0.29168324741347657\n",
      "0.28279655868098896\n",
      "0.28279437261852686\n"
     ]
    }
   ],
   "source": [
    "x0 = init\n",
    "for i in range(0, 4):\n",
    "    print(x0)\n",
    "    x0 = newton_step(CallPriceVol, x0)"
   ]
  },
  {
   "cell_type": "code",
   "execution_count": 22,
   "id": "42b167f2-7df2-4619-af26-7c1ee28153e5",
   "metadata": {},
   "outputs": [
    {
     "name": "stdout",
     "output_type": "stream",
     "text": [
      "Inflexion Point: 0.5158187910962976\n"
     ]
    }
   ],
   "source": [
    "def InflexionPoint(S, K, T, r):\n",
    "    m = S / (K * math.exp(-r * T))\n",
    "    return math.sqrt(2 * np.abs(math.log(m)) / T)\n",
    "\n",
    "I = InflexionPoint(S, K, T, r)\n",
    "print(\"Inflexion Point:\",I)"
   ]
  },
  {
   "cell_type": "code",
   "execution_count": 28,
   "id": "979aa655-14a2-4388-815b-acebd419670e",
   "metadata": {},
   "outputs": [
    {
     "name": "stdout",
     "output_type": "stream",
     "text": [
      "c 6.004056850607162 v 25.7972236955849\n",
      "c 0.007293287467410536 v 25.681549024903862\n",
      "c 6.129406493471379e-08 v 25.6811171161958\n"
     ]
    },
    {
     "data": {
      "text/plain": [
       "0.28279437500447296"
      ]
     },
     "execution_count": 28,
     "metadata": {},
     "output_type": "execute_result"
    }
   ],
   "source": [
    "def vega(S, sigma, K, T, r):\n",
    "    d1 = (math.log(S / K) + (r + .5 * sigma**2) * T) / (sigma * T**.5)\n",
    "    vega = S * T**0.5 * norm.pdf(d1)\n",
    "    return vega\n",
    "\n",
    "def ImpliedVolCall(C, S, K, r, T,tol):\n",
    "    x0 = InflexionPoint(S, K, T, r)\n",
    "    p = CallPrice(S, x0, K, T, r)\n",
    "    v = vega(S, x0, K, T, r)\n",
    "    print('c', p-C, 'v',v)\n",
    "    while (abs((p - C) / v) > tol):\n",
    "        x0 = x0 - (p - C) / v\n",
    "        p = CallPrice(S, x0, K, T, r)\n",
    "        v = vega(S, x0, K, T, r)\n",
    "        print('c',p-C,'v', v)\n",
    "    return x0\n",
    "\n",
    "tol= 10**-8\n",
    "ImpliedVolCall(C, S, K, r, T,tol)"
   ]
  },
  {
   "cell_type": "code",
   "execution_count": 31,
   "id": "d862cf8b-a7d1-4fc4-9acb-899790830b3e",
   "metadata": {},
   "outputs": [
    {
     "data": {
      "text/plain": [
       "9.092070621969285"
      ]
     },
     "execution_count": 31,
     "metadata": {},
     "output_type": "execute_result"
    }
   ],
   "source": [
    "CallPrice(S, 0.3, K, T, r)"
   ]
  },
  {
   "cell_type": "code",
   "execution_count": null,
   "id": "de3f6bd8-2741-4dce-a9e5-e5034c5d0fea",
   "metadata": {},
   "outputs": [],
   "source": []
  }
 ],
 "metadata": {
  "kernelspec": {
   "display_name": "Python 3 (ipykernel)",
   "language": "python",
   "name": "python3"
  },
  "language_info": {
   "codemirror_mode": {
    "name": "ipython",
    "version": 3
   },
   "file_extension": ".py",
   "mimetype": "text/x-python",
   "name": "python",
   "nbconvert_exporter": "python",
   "pygments_lexer": "ipython3",
   "version": "3.10.11"
  }
 },
 "nbformat": 4,
 "nbformat_minor": 5
}
