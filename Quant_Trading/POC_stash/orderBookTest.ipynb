{
 "cells": [
  {
   "cell_type": "code",
   "execution_count": 1,
   "metadata": {},
   "outputs": [],
   "source": [
    "import numpy as np\n",
    "import pandas as pd\n",
    "import tensorflow as tf\n",
    "import matplotlib.pyplot as plt\n",
    "import seaborn as sns\n",
    "import datetime as dt\n",
    "import yfinance as yf\n",
    "import pickle\n",
    "import os\n",
    "import math\n",
    "from ReferentialData.polygonData import PolygonAPI\n",
    "from DataAnalysis import DataExtensions\n",
    "from Filtering.KalmanFilter import KalmanFilter"
   ]
  },
  {
   "cell_type": "code",
   "execution_count": 2,
   "metadata": {},
   "outputs": [],
   "source": [
    "import BacktestEngine.backtest as backtest\n",
    "import BacktestEngine.order_book as order_book"
   ]
  },
  {
   "cell_type": "code",
   "execution_count": null,
   "metadata": {},
   "outputs": [],
   "source": [
    "## End Date\n",
    "end_dt = \"2025-01-01\"\n",
    "## Start date\n",
    "start_dt = \"2020-01-01\"\n",
    "# Loading \"pairs trade\" buckets\n",
    "DIR = r'C:\\Users\\raymo\\OneDrive\\Desktop\\Ray Stuff\\_Cache'\n",
    "COR_DIR = r'\\Users\\raymo\\OneDrive\\Desktop\\Playground\\Financial-Modelling-Playground\\Quant_Trading\\Clustering'\n",
    "# with open(os.path.join(COR_DIR, \"correlation_buckets_no_shorts.pkl\"), \"rb\") as file:\n",
    "#     BUCKETS = pickle.load(file)\n",
    "\n",
    "# # Concatenating dictionary value lists\n",
    "# UNIVERSE=[]\n",
    "# for i in list(BUCKETS.values()):\n",
    "#     UNIVERSE.extend(i)"
   ]
  },
  {
   "cell_type": "code",
   "execution_count": 5,
   "metadata": {},
   "outputs": [],
   "source": [
    "UNIVERSE = ['QQQ', 'SPX', 'AAAU', 'ACWI'] "
   ]
  },
  {
   "cell_type": "code",
   "execution_count": 7,
   "metadata": {},
   "outputs": [],
   "source": [
    "colnames = [\"Close\", \"Volume\"]\n",
    "DataLoader = PolygonAPI()\n",
    "MID_LOADED = False\n",
    "HIGH_LOADED = False\n",
    "if not MID_LOADED:\n",
    "    mid_df = {}\n",
    "if not HIGH_LOADED:\n",
    "    high_df = {}\n",
    "### loading in low frequency data\n",
    "if len(mid_df) == 0:\n",
    "    mid_df = DataLoader.getPrices(UNIVERSE, timespan= \"day\", from_ = start_dt, \n",
    "                                    to_=end_dt,\n",
    "                                  logDir=DIR, _parallel=True)\n",
    "    MID_LOADED = True\n",
    "\n",
    "### loading in high frequency data\n",
    "if len(high_df) == 0:\n",
    "    high_df = DataLoader.getPrices(UNIVERSE,from_ = start_dt, \n",
    "                                    to_=end_dt, timespan=\"minute\", logDir=DIR, _parallel=True, override=False)\n",
    "    HIGH_LOADED = True\n"
   ]
  },
  {
   "cell_type": "code",
   "execution_count": null,
   "metadata": {},
   "outputs": [],
   "source": [
    "### add random trades\n"
   ]
  },
  {
   "cell_type": "code",
   "execution_count": null,
   "metadata": {},
   "outputs": [],
   "source": [
    "BBO = order_book.Book()\n",
    "HOLDING_PERIOD_CHECK = {}\n",
    "isLong = False\n",
    "hasPosition = False\n",
    "\n",
    "def isFirstTrade(ticker, date):\n",
    "    if ticker not in HOLDING_PERIOD_CHECK:\n",
    "        return True\n",
    "    if date not in HOLDING_PERIOD_CHECK[ticker]:\n",
    "        return True\n",
    "    return False\n",
    "\n",
    "pairsLEGS = [x for x in LEGS if x != reference_ticker]\n",
    "\n",
    "for _, row in df.iloc[window:].iterrows():\n",
    "    if (row.BuySell == 1 \n",
    "        and not hasPosition\n",
    "        and isFirstTrade(reference_ticker, row.Date.normalize())):\n",
    "        print('bought spread at ', row.Date)\n",
    "        BBO.addOrder(row.Date, reference_ticker, row[reference_ticker],10 * row[f'{reference_ticker}_hr'])\n",
    "        for LEG in pairsLEGS:\n",
    "            BBO.addOrder(row.Date, LEG, row[LEG], -10 * row[f'{LEG}_hr'])\n",
    "        if reference_ticker not in HOLDING_PERIOD_CHECK:\n",
    "            HOLDING_PERIOD_CHECK[reference_ticker] = []\n",
    "        HOLDING_PERIOD_CHECK[reference_ticker].append(row.Date.normalize())\n",
    "        isLong = True\n",
    "        hasPosition = True\n",
    "    elif (row.BuySell == -1 \n",
    "        and not hasPosition\n",
    "        and isFirstTrade(reference_ticker, row.Date.normalize())):\n",
    "        print('sold spread at ', row.Date)\n",
    "        BBO.addOrder(row.Date, reference_ticker, row[reference_ticker], -10 * row[f'{reference_ticker}_hr'])\n",
    "        for LEG in pairsLEGS:\n",
    "            BBO.addOrder(row.Date, LEG, row[LEG], 10 * row[f'{LEG}_hr'])\n",
    "        isLong = False\n",
    "        if reference_ticker not in HOLDING_PERIOD_CHECK:\n",
    "            HOLDING_PERIOD_CHECK[reference_ticker] = []\n",
    "        HOLDING_PERIOD_CHECK[reference_ticker].append(row.Date.normalize())\n",
    "        hasPosition = True\n",
    "        isLong = False\n",
    "    else:\n",
    "        if hasPosition and isFirstTrade(reference_ticker, row.Date.normalize()):\n",
    "            print('exit spread at ', row.Date)\n",
    "            prices = {}\n",
    "            for ticker in LEGS:\n",
    "                prices[ticker] = row[ticker]\n",
    "            BBO.unwindALL(row.Date, prices =prices)\n",
    "            if reference_ticker not in HOLDING_PERIOD_CHECK:\n",
    "                HOLDING_PERIOD_CHECK[reference_ticker] = []\n",
    "                HOLDING_PERIOD_CHECK[reference_ticker].append(row.Date.normalize())\n",
    "            hasPosition = False\n",
    "            isLong = False\n",
    "\n",
    "#BBO.addOrder(df_res.iloc[100][\"Date\"], \"TSM\", 300.0, 10)\n",
    "#BBO.addOrder(df_res.iloc[120][\"Date\"], \"TSM\", 250.0, 25)\n",
    "#BBO.addOrder(df_res.iloc[200][\"Date\"], \"TSM\", 350.0, -30)\n",
    "#BBO.getTickerBook([\"TSLA\"]).tail(1)#.loc['Quantity']\n",
    "#BBO.get_history()\n",
    "\n",
    "#BBO.addOrder(df_res.iloc[50][\"Date\"], \"TSMC34.SA\", 300.0, 10)\n",
    "#BBO.addOrder(df_res.iloc[150][\"Date\"], \"TSMC34.SA\", 250.0, -25)"
   ]
  },
  {
   "cell_type": "code",
   "execution_count": null,
   "metadata": {},
   "outputs": [],
   "source": []
  }
 ],
 "metadata": {
  "kernelspec": {
   "display_name": "Python 3",
   "language": "python",
   "name": "python3"
  },
  "language_info": {
   "codemirror_mode": {
    "name": "ipython",
    "version": 3
   },
   "file_extension": ".py",
   "mimetype": "text/x-python",
   "name": "python",
   "nbconvert_exporter": "python",
   "pygments_lexer": "ipython3",
   "version": "3.10.5"
  }
 },
 "nbformat": 4,
 "nbformat_minor": 2
}
