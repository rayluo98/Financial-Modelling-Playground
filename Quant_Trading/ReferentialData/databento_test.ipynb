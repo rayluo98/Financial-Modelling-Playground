{
 "cells": [
  {
   "cell_type": "code",
   "execution_count": 1,
   "metadata": {},
   "outputs": [
    {
     "ename": "BentoClientError",
     "evalue": "403 license_reference_dataset_no_subscription\nA subscription is required to access the corporate actions dataset.\ndocumentation: https://databento.com/docs/portal",
     "output_type": "error",
     "traceback": [
      "\u001b[1;31m---------------------------------------------------------------------------\u001b[0m",
      "\u001b[1;31mBentoClientError\u001b[0m                          Traceback (most recent call last)",
      "Cell \u001b[1;32mIn[1], line 5\u001b[0m\n\u001b[0;32m      1\u001b[0m \u001b[38;5;28;01mimport\u001b[39;00m \u001b[38;5;21;01mdatabento\u001b[39;00m \u001b[38;5;28;01mas\u001b[39;00m \u001b[38;5;21;01mdb\u001b[39;00m\n\u001b[0;32m      3\u001b[0m client \u001b[38;5;241m=\u001b[39m db\u001b[38;5;241m.\u001b[39mReference(\u001b[38;5;124m\"\u001b[39m\u001b[38;5;124mdb-tYNarXiXyTwniR59wPyedBTScRBjc\u001b[39m\u001b[38;5;124m\"\u001b[39m)\n\u001b[1;32m----> 5\u001b[0m df_raw \u001b[38;5;241m=\u001b[39m \u001b[43mclient\u001b[49m\u001b[38;5;241;43m.\u001b[39;49m\u001b[43mcorporate_actions\u001b[49m\u001b[38;5;241;43m.\u001b[39;49m\u001b[43mget_range\u001b[49m\u001b[43m(\u001b[49m\n\u001b[0;32m      6\u001b[0m \u001b[43m    \u001b[49m\u001b[43msymbols\u001b[49m\u001b[38;5;241;43m=\u001b[39;49m\u001b[43m[\u001b[49m\u001b[38;5;124;43m\"\u001b[39;49m\u001b[38;5;124;43m2297249D\u001b[39;49m\u001b[38;5;124;43m\"\u001b[39;49m\u001b[43m]\u001b[49m\u001b[43m,\u001b[49m\n\u001b[0;32m      7\u001b[0m \u001b[43m    \u001b[49m\u001b[43mstype_in\u001b[49m\u001b[38;5;241;43m=\u001b[39;49m\u001b[38;5;124;43m\"\u001b[39;49m\u001b[38;5;124;43mraw_symbol\u001b[39;49m\u001b[38;5;124;43m\"\u001b[39;49m\u001b[43m,\u001b[49m\n\u001b[0;32m      8\u001b[0m \u001b[43m    \u001b[49m\u001b[43mstart\u001b[49m\u001b[38;5;241;43m=\u001b[39;49m\u001b[38;5;124;43m\"\u001b[39;49m\u001b[38;5;124;43m2024-01\u001b[39;49m\u001b[38;5;124;43m\"\u001b[39;49m\u001b[43m,\u001b[49m\n\u001b[0;32m      9\u001b[0m \u001b[43m    \u001b[49m\u001b[43mcountries\u001b[49m\u001b[38;5;241;43m=\u001b[39;49m\u001b[43m[\u001b[49m\u001b[38;5;124;43m\"\u001b[39;49m\u001b[38;5;124;43mUS\u001b[39;49m\u001b[38;5;124;43m\"\u001b[39;49m\u001b[43m]\u001b[49m\u001b[43m,\u001b[49m\n\u001b[0;32m     10\u001b[0m \u001b[43m)\u001b[49m\n\u001b[0;32m     12\u001b[0m \u001b[38;5;28mprint\u001b[39m(df_raw\u001b[38;5;241m.\u001b[39mhead())\n",
      "File \u001b[1;32mc:\\Users\\raymo\\AppData\\Local\\Programs\\Python\\Python310\\lib\\site-packages\\databento\\reference\\api\\corporate.py:123\u001b[0m, in \u001b[0;36mCorporateActionsHttpAPI.get_range\u001b[1;34m(self, start, end, index, symbols, stype_in, events, countries, security_types, flatten, pit)\u001b[0m\n\u001b[0;32m    109\u001b[0m security_types \u001b[38;5;241m=\u001b[39m optional_string_to_list(security_types)\n\u001b[0;32m    111\u001b[0m data: \u001b[38;5;28mdict\u001b[39m[\u001b[38;5;28mstr\u001b[39m, \u001b[38;5;28mobject\u001b[39m \u001b[38;5;241m|\u001b[39m \u001b[38;5;28;01mNone\u001b[39;00m] \u001b[38;5;241m=\u001b[39m {\n\u001b[0;32m    112\u001b[0m     \u001b[38;5;124m\"\u001b[39m\u001b[38;5;124mstart\u001b[39m\u001b[38;5;124m\"\u001b[39m: datetime_to_string(start),\n\u001b[0;32m    113\u001b[0m     \u001b[38;5;124m\"\u001b[39m\u001b[38;5;124mend\u001b[39m\u001b[38;5;124m\"\u001b[39m: optional_datetime_to_string(end),\n\u001b[1;32m   (...)\u001b[0m\n\u001b[0;32m    120\u001b[0m     \u001b[38;5;124m\"\u001b[39m\u001b[38;5;124mcompression\u001b[39m\u001b[38;5;124m\"\u001b[39m: \u001b[38;5;28mstr\u001b[39m(Compression\u001b[38;5;241m.\u001b[39mZSTD),  \u001b[38;5;66;03m# Always request zstd\u001b[39;00m\n\u001b[0;32m    121\u001b[0m }\n\u001b[1;32m--> 123\u001b[0m response \u001b[38;5;241m=\u001b[39m \u001b[38;5;28;43mself\u001b[39;49m\u001b[38;5;241;43m.\u001b[39;49m\u001b[43m_post\u001b[49m\u001b[43m(\u001b[49m\n\u001b[0;32m    124\u001b[0m \u001b[43m    \u001b[49m\u001b[43murl\u001b[49m\u001b[38;5;241;43m=\u001b[39;49m\u001b[38;5;28;43mself\u001b[39;49m\u001b[38;5;241;43m.\u001b[39;49m\u001b[43m_base_url\u001b[49m\u001b[43m \u001b[49m\u001b[38;5;241;43m+\u001b[39;49m\u001b[43m \u001b[49m\u001b[38;5;124;43m\"\u001b[39;49m\u001b[38;5;124;43m.get_range\u001b[39;49m\u001b[38;5;124;43m\"\u001b[39;49m\u001b[43m,\u001b[49m\n\u001b[0;32m    125\u001b[0m \u001b[43m    \u001b[49m\u001b[43mdata\u001b[49m\u001b[38;5;241;43m=\u001b[39;49m\u001b[43mdata\u001b[49m\u001b[43m,\u001b[49m\n\u001b[0;32m    126\u001b[0m \u001b[43m    \u001b[49m\u001b[43mbasic_auth\u001b[49m\u001b[38;5;241;43m=\u001b[39;49m\u001b[38;5;28;43;01mTrue\u001b[39;49;00m\u001b[43m,\u001b[49m\n\u001b[0;32m    127\u001b[0m \u001b[43m\u001b[49m\u001b[43m)\u001b[49m\n\u001b[0;32m    129\u001b[0m df \u001b[38;5;241m=\u001b[39m convert_ndjson_to_df(response\u001b[38;5;241m.\u001b[39mcontent, compressed\u001b[38;5;241m=\u001b[39m\u001b[38;5;28;01mTrue\u001b[39;00m)\n\u001b[0;32m    130\u001b[0m \u001b[38;5;28;01mif\u001b[39;00m df\u001b[38;5;241m.\u001b[39mempty:\n",
      "File \u001b[1;32mc:\\Users\\raymo\\AppData\\Local\\Programs\\Python\\Python310\\lib\\site-packages\\databento\\common\\http.py:113\u001b[0m, in \u001b[0;36mBentoHttpAPI._post\u001b[1;34m(self, url, data, params, basic_auth)\u001b[0m\n\u001b[0;32m    104\u001b[0m \u001b[38;5;28;01mwith\u001b[39;00m requests\u001b[38;5;241m.\u001b[39mpost(\n\u001b[0;32m    105\u001b[0m     url\u001b[38;5;241m=\u001b[39murl,\n\u001b[0;32m    106\u001b[0m     data\u001b[38;5;241m=\u001b[39mdata,\n\u001b[1;32m   (...)\u001b[0m\n\u001b[0;32m    110\u001b[0m     timeout\u001b[38;5;241m=\u001b[39m(\u001b[38;5;28mself\u001b[39m\u001b[38;5;241m.\u001b[39mTIMEOUT, \u001b[38;5;28mself\u001b[39m\u001b[38;5;241m.\u001b[39mTIMEOUT),\n\u001b[0;32m    111\u001b[0m ) \u001b[38;5;28;01mas\u001b[39;00m response:\n\u001b[0;32m    112\u001b[0m     check_backend_warnings(response)\n\u001b[1;32m--> 113\u001b[0m     \u001b[43mcheck_http_error\u001b[49m\u001b[43m(\u001b[49m\u001b[43mresponse\u001b[49m\u001b[43m)\u001b[49m\n\u001b[0;32m    114\u001b[0m     \u001b[38;5;28;01mreturn\u001b[39;00m response\n",
      "File \u001b[1;32mc:\\Users\\raymo\\AppData\\Local\\Programs\\Python\\Python310\\lib\\site-packages\\databento\\common\\http.py:249\u001b[0m, in \u001b[0;36mcheck_http_error\u001b[1;34m(response)\u001b[0m\n\u001b[0;32m    247\u001b[0m \u001b[38;5;28;01mif\u001b[39;00m response\u001b[38;5;241m.\u001b[39mstatus_code \u001b[38;5;241m==\u001b[39m \u001b[38;5;241m408\u001b[39m:\n\u001b[0;32m    248\u001b[0m     message \u001b[38;5;241m=\u001b[39m \u001b[38;5;124m\"\u001b[39m\u001b[38;5;124mThe request transmission timed out.\u001b[39m\u001b[38;5;124m\"\u001b[39m\n\u001b[1;32m--> 249\u001b[0m \u001b[38;5;28;01mraise\u001b[39;00m BentoClientError(\n\u001b[0;32m    250\u001b[0m     http_status\u001b[38;5;241m=\u001b[39mresponse\u001b[38;5;241m.\u001b[39mstatus_code,\n\u001b[0;32m    251\u001b[0m     http_body\u001b[38;5;241m=\u001b[39mresponse\u001b[38;5;241m.\u001b[39mcontent,\n\u001b[0;32m    252\u001b[0m     json_body\u001b[38;5;241m=\u001b[39mjson_body,\n\u001b[0;32m    253\u001b[0m     message\u001b[38;5;241m=\u001b[39mmessage,\n\u001b[0;32m    254\u001b[0m     headers\u001b[38;5;241m=\u001b[39mresponse\u001b[38;5;241m.\u001b[39mheaders,\n\u001b[0;32m    255\u001b[0m )\n",
      "\u001b[1;31mBentoClientError\u001b[0m: 403 license_reference_dataset_no_subscription\nA subscription is required to access the corporate actions dataset.\ndocumentation: https://databento.com/docs/portal"
     ]
    }
   ],
   "source": [
    "import databento as db\n",
    "\n",
    "client = db.Reference(\"BLAHHHHHHHH\")\n",
    "\n",
    "df_raw = client.corporate_actions.get_range(\n",
    "    symbols=[\"2297249D\"],\n",
    "    stype_in=\"raw_symbol\",\n",
    "    start=\"2024-01\",\n",
    "    countries=[\"US\"],\n",
    ")\n",
    "\n",
    "print(df_raw.head())"
   ]
  },
  {
   "cell_type": "code",
   "execution_count": null,
   "metadata": {},
   "outputs": [],
   "source": []
  }
 ],
 "metadata": {
  "kernelspec": {
   "display_name": "Python 3",
   "language": "python",
   "name": "python3"
  },
  "language_info": {
   "codemirror_mode": {
    "name": "ipython",
    "version": 3
   },
   "file_extension": ".py",
   "mimetype": "text/x-python",
   "name": "python",
   "nbconvert_exporter": "python",
   "pygments_lexer": "ipython3",
   "version": "3.10.5"
  }
 },
 "nbformat": 4,
 "nbformat_minor": 2
}
