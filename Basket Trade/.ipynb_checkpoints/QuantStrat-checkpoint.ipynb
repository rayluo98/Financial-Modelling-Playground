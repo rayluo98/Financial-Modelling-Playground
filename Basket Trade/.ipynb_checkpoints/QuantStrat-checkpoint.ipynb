{
 "cells": [
  {
   "cell_type": "code",
   "execution_count": 2,
   "id": "6b75f321-d486-4383-bef8-041c5cbb0ad4",
   "metadata": {},
   "outputs": [],
   "source": [
    "from importlib import reload\n",
    "import backtest\n",
    "import order_book"
   ]
  },
  {
   "cell_type": "code",
   "execution_count": null,
   "id": "fa2b7fb7-f7ca-48c5-8844-f2d28db2d304",
   "metadata": {},
   "outputs": [],
   "source": []
  }
 ],
 "metadata": {
  "kernelspec": {
   "display_name": "Python 3 (ipykernel)",
   "language": "python",
   "name": "python3"
  },
  "language_info": {
   "codemirror_mode": {
    "name": "ipython",
    "version": 3
   },
   "file_extension": ".py",
   "mimetype": "text/x-python",
   "name": "python",
   "nbconvert_exporter": "python",
   "pygments_lexer": "ipython3",
   "version": "3.10.11"
  }
 },
 "nbformat": 4,
 "nbformat_minor": 5
}
