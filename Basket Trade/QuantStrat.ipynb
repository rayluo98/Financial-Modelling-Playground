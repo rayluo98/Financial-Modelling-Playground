{
 "cells": [
  {
   "cell_type": "code",
   "execution_count": 1,
   "id": "6b75f321-d486-4383-bef8-041c5cbb0ad4",
   "metadata": {},
   "outputs": [],
   "source": [
    "from importlib import reload\n",
    "import backtest\n",
    "import order_book\n",
    "import signal_1"
   ]
  },
  {
   "cell_type": "code",
   "execution_count": 2,
   "id": "fa2b7fb7-f7ca-48c5-8844-f2d28db2d304",
   "metadata": {},
   "outputs": [],
   "source": [
    "import numpy as np\n",
    "import pandas as pd\n",
    "import tensorflow as tf\n",
    "import matplotlib.pyplot as plt\n",
    "import seaborn as sns\n",
    "import datetime as dt\n",
    "import yfinance as yf"
   ]
  },
  {
   "cell_type": "code",
   "execution_count": 3,
   "id": "28f6e511-82cf-4fd2-9979-bb2b30c3a0be",
   "metadata": {},
   "outputs": [],
   "source": [
    "tickers = ['TSLA', 'GS']\n",
    "colnames = []\n",
    "for ticker in tickers:\n",
    "    ts = yf.Ticker(ticker)\n",
    "    data = ts.history(interval=\"1h\", period=\"2y\")[\"Close\"]\n",
    "    if len(colnames)==0:\n",
    "        combined = data.copy()\n",
    "    else:\n",
    "        combined = pd.concat([combined, data.copy()], axis = 1)\n",
    "    colnames.append(ticker)\n",
    "    combined.columns = colnames"
   ]
  },
  {
   "cell_type": "code",
   "execution_count": 4,
   "id": "c374621c-663b-497d-98e4-b7f2f550716f",
   "metadata": {},
   "outputs": [
    {
     "data": {
      "text/html": [
       "<div>\n",
       "<style scoped>\n",
       "    .dataframe tbody tr th:only-of-type {\n",
       "        vertical-align: middle;\n",
       "    }\n",
       "\n",
       "    .dataframe tbody tr th {\n",
       "        vertical-align: top;\n",
       "    }\n",
       "\n",
       "    .dataframe thead th {\n",
       "        text-align: right;\n",
       "    }\n",
       "</style>\n",
       "<table border=\"1\" class=\"dataframe\">\n",
       "  <thead>\n",
       "    <tr style=\"text-align: right;\">\n",
       "      <th></th>\n",
       "      <th>Date</th>\n",
       "      <th>TSLA</th>\n",
       "      <th>GS</th>\n",
       "    </tr>\n",
       "  </thead>\n",
       "  <tbody>\n",
       "    <tr>\n",
       "      <th>0</th>\n",
       "      <td>2022-05-18 09:30:00-04:00</td>\n",
       "      <td>250.619995</td>\n",
       "      <td>309.450012</td>\n",
       "    </tr>\n",
       "    <tr>\n",
       "      <th>1</th>\n",
       "      <td>2022-05-18 10:30:00-04:00</td>\n",
       "      <td>245.186661</td>\n",
       "      <td>308.750000</td>\n",
       "    </tr>\n",
       "    <tr>\n",
       "      <th>2</th>\n",
       "      <td>2022-05-18 11:30:00-04:00</td>\n",
       "      <td>238.429993</td>\n",
       "      <td>308.820007</td>\n",
       "    </tr>\n",
       "    <tr>\n",
       "      <th>3</th>\n",
       "      <td>2022-05-18 12:30:00-04:00</td>\n",
       "      <td>235.766663</td>\n",
       "      <td>309.089996</td>\n",
       "    </tr>\n",
       "    <tr>\n",
       "      <th>4</th>\n",
       "      <td>2022-05-18 13:30:00-04:00</td>\n",
       "      <td>235.646667</td>\n",
       "      <td>308.649994</td>\n",
       "    </tr>\n",
       "    <tr>\n",
       "      <th>...</th>\n",
       "      <td>...</td>\n",
       "      <td>...</td>\n",
       "      <td>...</td>\n",
       "    </tr>\n",
       "    <tr>\n",
       "      <th>3504</th>\n",
       "      <td>2024-05-17 11:30:00-04:00</td>\n",
       "      <td>179.255005</td>\n",
       "      <td>467.820007</td>\n",
       "    </tr>\n",
       "    <tr>\n",
       "      <th>3505</th>\n",
       "      <td>2024-05-17 12:30:00-04:00</td>\n",
       "      <td>177.220001</td>\n",
       "      <td>468.149994</td>\n",
       "    </tr>\n",
       "    <tr>\n",
       "      <th>3506</th>\n",
       "      <td>2024-05-17 13:30:00-04:00</td>\n",
       "      <td>176.170105</td>\n",
       "      <td>466.510010</td>\n",
       "    </tr>\n",
       "    <tr>\n",
       "      <th>3507</th>\n",
       "      <td>2024-05-17 14:30:00-04:00</td>\n",
       "      <td>177.120102</td>\n",
       "      <td>467.170013</td>\n",
       "    </tr>\n",
       "    <tr>\n",
       "      <th>3508</th>\n",
       "      <td>2024-05-17 15:30:00-04:00</td>\n",
       "      <td>177.460007</td>\n",
       "      <td>467.720001</td>\n",
       "    </tr>\n",
       "  </tbody>\n",
       "</table>\n",
       "<p>3509 rows × 3 columns</p>\n",
       "</div>"
      ],
      "text/plain": [
       "                          Date        TSLA          GS\n",
       "0    2022-05-18 09:30:00-04:00  250.619995  309.450012\n",
       "1    2022-05-18 10:30:00-04:00  245.186661  308.750000\n",
       "2    2022-05-18 11:30:00-04:00  238.429993  308.820007\n",
       "3    2022-05-18 12:30:00-04:00  235.766663  309.089996\n",
       "4    2022-05-18 13:30:00-04:00  235.646667  308.649994\n",
       "...                        ...         ...         ...\n",
       "3504 2024-05-17 11:30:00-04:00  179.255005  467.820007\n",
       "3505 2024-05-17 12:30:00-04:00  177.220001  468.149994\n",
       "3506 2024-05-17 13:30:00-04:00  176.170105  466.510010\n",
       "3507 2024-05-17 14:30:00-04:00  177.120102  467.170013\n",
       "3508 2024-05-17 15:30:00-04:00  177.460007  467.720001\n",
       "\n",
       "[3509 rows x 3 columns]"
      ]
     },
     "execution_count": 4,
     "metadata": {},
     "output_type": "execute_result"
    }
   ],
   "source": [
    "combined = combined.reset_index().rename(columns={'Datetime':'Date'})\n",
    "combined"
   ]
  },
  {
   "cell_type": "code",
   "execution_count": 5,
   "id": "9cb96d88-7446-4d59-b26b-64625b1613b3",
   "metadata": {},
   "outputs": [
    {
     "data": {
      "text/html": [
       "<div>\n",
       "<style scoped>\n",
       "    .dataframe tbody tr th:only-of-type {\n",
       "        vertical-align: middle;\n",
       "    }\n",
       "\n",
       "    .dataframe tbody tr th {\n",
       "        vertical-align: top;\n",
       "    }\n",
       "\n",
       "    .dataframe thead th {\n",
       "        text-align: right;\n",
       "    }\n",
       "</style>\n",
       "<table border=\"1\" class=\"dataframe\">\n",
       "  <thead>\n",
       "    <tr style=\"text-align: right;\">\n",
       "      <th></th>\n",
       "      <th>Date</th>\n",
       "      <th>Price</th>\n",
       "      <th>Ticker</th>\n",
       "    </tr>\n",
       "  </thead>\n",
       "  <tbody>\n",
       "    <tr>\n",
       "      <th>0</th>\n",
       "      <td>2022-05-18 09:30:00-04:00</td>\n",
       "      <td>250.619995</td>\n",
       "      <td>TSLA</td>\n",
       "    </tr>\n",
       "    <tr>\n",
       "      <th>1</th>\n",
       "      <td>2022-05-18 10:30:00-04:00</td>\n",
       "      <td>245.186661</td>\n",
       "      <td>TSLA</td>\n",
       "    </tr>\n",
       "    <tr>\n",
       "      <th>2</th>\n",
       "      <td>2022-05-18 11:30:00-04:00</td>\n",
       "      <td>238.429993</td>\n",
       "      <td>TSLA</td>\n",
       "    </tr>\n",
       "    <tr>\n",
       "      <th>3</th>\n",
       "      <td>2022-05-18 12:30:00-04:00</td>\n",
       "      <td>235.766663</td>\n",
       "      <td>TSLA</td>\n",
       "    </tr>\n",
       "    <tr>\n",
       "      <th>4</th>\n",
       "      <td>2022-05-18 13:30:00-04:00</td>\n",
       "      <td>235.646667</td>\n",
       "      <td>TSLA</td>\n",
       "    </tr>\n",
       "    <tr>\n",
       "      <th>...</th>\n",
       "      <td>...</td>\n",
       "      <td>...</td>\n",
       "      <td>...</td>\n",
       "    </tr>\n",
       "    <tr>\n",
       "      <th>3504</th>\n",
       "      <td>2024-05-17 11:30:00-04:00</td>\n",
       "      <td>467.820007</td>\n",
       "      <td>GS</td>\n",
       "    </tr>\n",
       "    <tr>\n",
       "      <th>3505</th>\n",
       "      <td>2024-05-17 12:30:00-04:00</td>\n",
       "      <td>468.149994</td>\n",
       "      <td>GS</td>\n",
       "    </tr>\n",
       "    <tr>\n",
       "      <th>3506</th>\n",
       "      <td>2024-05-17 13:30:00-04:00</td>\n",
       "      <td>466.510010</td>\n",
       "      <td>GS</td>\n",
       "    </tr>\n",
       "    <tr>\n",
       "      <th>3507</th>\n",
       "      <td>2024-05-17 14:30:00-04:00</td>\n",
       "      <td>467.170013</td>\n",
       "      <td>GS</td>\n",
       "    </tr>\n",
       "    <tr>\n",
       "      <th>3508</th>\n",
       "      <td>2024-05-17 15:30:00-04:00</td>\n",
       "      <td>467.720001</td>\n",
       "      <td>GS</td>\n",
       "    </tr>\n",
       "  </tbody>\n",
       "</table>\n",
       "<p>7018 rows × 3 columns</p>\n",
       "</div>"
      ],
      "text/plain": [
       "                          Date       Price Ticker\n",
       "0    2022-05-18 09:30:00-04:00  250.619995   TSLA\n",
       "1    2022-05-18 10:30:00-04:00  245.186661   TSLA\n",
       "2    2022-05-18 11:30:00-04:00  238.429993   TSLA\n",
       "3    2022-05-18 12:30:00-04:00  235.766663   TSLA\n",
       "4    2022-05-18 13:30:00-04:00  235.646667   TSLA\n",
       "...                        ...         ...    ...\n",
       "3504 2024-05-17 11:30:00-04:00  467.820007     GS\n",
       "3505 2024-05-17 12:30:00-04:00  468.149994     GS\n",
       "3506 2024-05-17 13:30:00-04:00  466.510010     GS\n",
       "3507 2024-05-17 14:30:00-04:00  467.170013     GS\n",
       "3508 2024-05-17 15:30:00-04:00  467.720001     GS\n",
       "\n",
       "[7018 rows x 3 columns]"
      ]
     },
     "execution_count": 5,
     "metadata": {},
     "output_type": "execute_result"
    }
   ],
   "source": [
    "df = combined\n",
    "\n",
    "\n",
    "df1 = df[['Date', 'TSLA']]\n",
    "df2 = df[['Date', 'GS']]\n",
    "df1['Ticker'] = 'TSLA'\n",
    "df2['Ticker'] = 'GS'\n",
    "\n",
    "df_res = pd.concat([df1.rename(columns={'TSLA':'Price'}),df2.rename(columns={'GS':'Price'})])\n",
    "#df1.drop('index', inplace=True)\n",
    "#df_res.rename(columns={'Datetime':'Date'}, inplace=True)\n",
    "df_res# = df1[['Date', 'Ticker']]"
   ]
  },
  {
   "cell_type": "code",
   "execution_count": 6,
   "id": "61dda146-27d2-461f-b36a-ed5ce4d4d6d2",
   "metadata": {},
   "outputs": [
    {
     "data": {
      "text/plain": [
       "Timestamp('2022-06-08 11:30:00-0400', tz='America/New_York')"
      ]
     },
     "execution_count": 6,
     "metadata": {},
     "output_type": "execute_result"
    }
   ],
   "source": [
    "df_res.iloc[100][\"Date\"]"
   ]
  },
  {
   "cell_type": "code",
   "execution_count": 7,
   "id": "7f18c72a-e096-414a-8380-6f989212e3ca",
   "metadata": {},
   "outputs": [],
   "source": [
    "BBO = order_book.Book()\n",
    "BBO.addOrder(df_res.iloc[100][\"Date\"], \"TSLA\", 300.0, 10)\n"
   ]
  },
  {
   "cell_type": "code",
   "execution_count": 8,
   "id": "09114455-ff48-46fc-9be7-d49e4e9b82cf",
   "metadata": {},
   "outputs": [
    {
     "data": {
      "text/html": [
       "<div>\n",
       "<style scoped>\n",
       "    .dataframe tbody tr th:only-of-type {\n",
       "        vertical-align: middle;\n",
       "    }\n",
       "\n",
       "    .dataframe tbody tr th {\n",
       "        vertical-align: top;\n",
       "    }\n",
       "\n",
       "    .dataframe thead th {\n",
       "        text-align: right;\n",
       "    }\n",
       "</style>\n",
       "<table border=\"1\" class=\"dataframe\">\n",
       "  <thead>\n",
       "    <tr style=\"text-align: right;\">\n",
       "      <th></th>\n",
       "      <th>Date</th>\n",
       "      <th>Ticker</th>\n",
       "      <th>Quantity</th>\n",
       "      <th>CostBasis</th>\n",
       "      <th>MV</th>\n",
       "      <th>unrealizedPnl</th>\n",
       "    </tr>\n",
       "  </thead>\n",
       "  <tbody>\n",
       "    <tr>\n",
       "      <th>0</th>\n",
       "      <td>2022-06-08 11:30:00-04:00</td>\n",
       "      <td>TSLA</td>\n",
       "      <td>10</td>\n",
       "      <td>3000.0</td>\n",
       "      <td>3000.0</td>\n",
       "      <td>0.0</td>\n",
       "    </tr>\n",
       "  </tbody>\n",
       "</table>\n",
       "</div>"
      ],
      "text/plain": [
       "                       Date Ticker  Quantity  CostBasis      MV  unrealizedPnl\n",
       "0 2022-06-08 11:30:00-04:00   TSLA        10     3000.0  3000.0            0.0"
      ]
     },
     "execution_count": 8,
     "metadata": {},
     "output_type": "execute_result"
    }
   ],
   "source": [
    "df_res\n",
    "BBO.get_books()"
   ]
  },
  {
   "cell_type": "code",
   "execution_count": 9,
   "id": "8e68a35b-c327-44ac-8ebf-d378fdf2a424",
   "metadata": {},
   "outputs": [],
   "source": [
    "BBO.backfillPnL(df_res)"
   ]
  },
  {
   "cell_type": "code",
   "execution_count": 13,
   "id": "ae5091e8-62c9-4639-84b9-6d214b2d991e",
   "metadata": {},
   "outputs": [],
   "source": [
    "hist = BBO.getHistoryDf()"
   ]
  },
  {
   "cell_type": "code",
   "execution_count": 14,
   "id": "a05e532e-33ba-4634-9e7d-72067f376e49",
   "metadata": {},
   "outputs": [
    {
     "data": {
      "text/plain": [
       "Date             2022-06-08 11:30:00-04:00\n",
       "Ticker                                TSLA\n",
       "Quantity                                10\n",
       "CostBasis                           3000.0\n",
       "MV                                  3000.0\n",
       "unrealizedPnl                          0.0\n",
       "Name: 0, dtype: object"
      ]
     },
     "execution_count": 14,
     "metadata": {},
     "output_type": "execute_result"
    }
   ],
   "source": [
    "BBO.getTickerBook(['TSLA'])"
   ]
  },
  {
   "cell_type": "code",
   "execution_count": 15,
   "id": "8dfad75b-358e-4324-9962-0bff40c374dd",
   "metadata": {},
   "outputs": [
    {
     "data": {
      "image/png": "[encoded data removed]",
      "text/plain": [
       "<Figure size 640x480 with 1 Axes>"
      ]
     },
     "metadata": {},
     "output_type": "display_data"
    }
   ],
   "source": [
    "plt.plot(hist[['Value','PnL']])\n",
    "plt.show()"
   ]
  },
  {
   "cell_type": "code",
   "execution_count": null,
   "id": "1bb939a1-9561-495d-b11a-a46d8ad13d6c",
   "metadata": {},
   "outputs": [],
   "source": []
  }
 ],
 "metadata": {
  "kernelspec": {
   "display_name": "Python 3 (ipykernel)",
   "language": "python",
   "name": "python3"
  },
  "language_info": {
   "codemirror_mode": {
    "name": "ipython",
    "version": 3
   },
   "file_extension": ".py",
   "mimetype": "text/x-python",
   "name": "python",
   "nbconvert_exporter": "python",
   "pygments_lexer": "ipython3",
   "version": "3.10.11"
  }
 },
 "nbformat": 4,
 "nbformat_minor": 5
}
